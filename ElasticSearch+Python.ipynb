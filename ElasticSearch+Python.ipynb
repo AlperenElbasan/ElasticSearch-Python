{
  "cells": [
    {
      "cell_type": "code",
      "execution_count": 10,
      "metadata": {
        "collapsed": true,
        "pycharm": {
          "name": "#%%\n",
          "is_executing": false
        }
      },
      "outputs": [],
      "source": "from datetime import datetime\nfrom elasticsearch import Elasticsearch  # this is elasticsearch-py low level library.\n# elasticsearch-dsl can be used for better and high level API usage against elasticsearch.\nfrom elasticsearch_dsl import Search"
    },
    {
      "cell_type": "code",
      "execution_count": 11,
      "outputs": [
        {
          "name": "stdout",
          "text": [
            "Cluster Name: {\u0027cluster_name\u0027: \u0027docker-cluster\u0027, \u0027cluster_uuid\u0027: \u0027hpUPNj8XRICaRhcu5wTXrg\u0027}\n"
          ],
          "output_type": "stream"
        }
      ],
      "source": "HOST_URLS \u003d [\"http://127.0.0.1:9200\"]\nes \u003d Elasticsearch(HOST_URLS)\nprint(\"Cluster Name:\", es.cluster.state(metric\u003d[\u0027cluster_name\u0027])) # Let\u0027s print Cluster name if ES server works.",
      "metadata": {
        "pycharm": {
          "metadata": false,
          "name": "#%%\n",
          "is_executing": false
        }
      }
    },
    {
      "cell_type": "markdown",
      "source": "Let\u0027s create some arbitrary employees who named as Alperen, because why not?!",
      "metadata": {
        "pycharm": {
          "metadata": false
        }
      }
    },
    {
      "cell_type": "code",
      "execution_count": 12,
      "outputs": [
        {
          "name": "stdout",
          "text": [
            "created\ncreated\ncreated\n"
          ],
          "output_type": "stream"
        }
      ],
      "source": "e1 \u003d {\n    \"first_name\": \"Alperen\",\n    \"last_name\": \"panwar\",\n    \"age\": 27,\n    \"about\": \"Love to play cricket\",\n    \"interests\": [\u0027sports\u0027, \u0027music\u0027],\n}\ne2 \u003d {\n    \"first_name\": \"Alper\",\n    \"last_name\": \"Smith\",\n    \"age\": 32,\n    \"about\": \"I like to collect rock albums\",\n    \"interests\": [\"music\"]\n}\ne3 \u003d {\n    \"first_name\": \"Alp Eren\",\n    \"last_name\": \"Fir\",\n    \"age\": 35,\n    \"about\": \"I like to build cabinets\",\n    \"interests\": [\"forestry\"]\n}\n\nres \u003d es.index(index\u003d\u0027alperen-index\u0027, doc_type\u003d\u0027employee\u0027, id\u003d1, body\u003de1)\nprint(res[\u0027result\u0027])\nres \u003d es.index(index\u003d\u0027alperen-index\u0027, doc_type\u003d\u0027employee\u0027, id\u003d2, body\u003de2)\nprint(res[\u0027result\u0027])\nres \u003d es.index(index\u003d\u0027alperen-index\u0027, doc_type\u003d\u0027employee\u0027, id\u003d3, body\u003de3)\nprint(res[\u0027result\u0027])\n\n# Prints 3 result which are for logging purposes.\n# If results are \u0027updated\u0027 then some data existed with the same id and it is replaced with corresponding values,\n# If results are \u0027created\u0027 then these values are created newly with x values (id\u003dx).",
      "metadata": {
        "pycharm": {
          "metadata": false,
          "name": "#%%\n",
          "is_executing": false
        }
      }
    },
    {
      "cell_type": "code",
      "execution_count": 13,
      "outputs": [
        {
          "name": "stdout",
          "text": [
            "Got 3 hits:\n\tID 1 : {\u0027first_name\u0027: \u0027Alperen\u0027, \u0027last_name\u0027: \u0027panwar\u0027, \u0027age\u0027: 27, \u0027about\u0027: \u0027Love to play cricket\u0027, \u0027interests\u0027: [\u0027sports\u0027, \u0027music\u0027]}\n\tID 2 : {\u0027first_name\u0027: \u0027Alper\u0027, \u0027last_name\u0027: \u0027Smith\u0027, \u0027age\u0027: 32, \u0027about\u0027: \u0027I like to collect rock albums\u0027, \u0027interests\u0027: [\u0027music\u0027]}\n\tID 3 : {\u0027first_name\u0027: \u0027Alp Eren\u0027, \u0027last_name\u0027: \u0027Fir\u0027, \u0027age\u0027: 35, \u0027about\u0027: \u0027I like to build cabinets\u0027, \u0027interests\u0027: [\u0027forestry\u0027]}\n"
          ],
          "output_type": "stream"
        }
      ],
      "source": "res \u003d es.search(index\u003d\u0027alperen-index\u0027, body\u003d{\u0027query\u0027: {\u0027match_all\u0027: {}}})\nprint(\u0027Got %d hits:\u0027 % res[\u0027hits\u0027][\u0027total\u0027][\u0027value\u0027])\nfor hit in res[\u0027hits\u0027][\u0027hits\u0027]:\n    print(\"\\tID %(_id)s : %(_source)s\" % hit)\n    \n# Gets all data",
      "metadata": {
        "pycharm": {
          "metadata": false,
          "name": "#%%\n",
          "is_executing": false
        }
      }
    },
    {
      "cell_type": "code",
      "execution_count": 14,
      "outputs": [
        {
          "name": "stdout",
          "text": [
            "Got 1 hits:\n\tID 2 : {\u0027first_name\u0027: \u0027Alper\u0027, \u0027last_name\u0027: \u0027Smith\u0027, \u0027age\u0027: 32, \u0027about\u0027: \u0027I like to collect rock albums\u0027, \u0027interests\u0027: [\u0027music\u0027]}\n"
          ],
          "output_type": "stream"
        }
      ],
      "source": "res \u003d es.search(index\u003d\u0027alperen-index\u0027, body\u003d{\n    \u0027query\u0027: {\n        \u0027match\u0027: {\n            \u0027age\u0027:\n                32\n        }\n    }\n})\n\nprint(\u0027Got %d hits:\u0027 % res[\u0027hits\u0027][\u0027total\u0027][\u0027value\u0027])\nfor hit in res[\u0027hits\u0027][\u0027hits\u0027]:\n    print(\"\\tID %(_id)s : %(_source)s\" % hit)\n    \n# Gets all data with age value equals to 32.",
      "metadata": {
        "pycharm": {
          "metadata": false,
          "name": "#%%\n",
          "is_executing": false
        }
      }
    },
    {
      "cell_type": "code",
      "execution_count": 15,
      "outputs": [
        {
          "name": "stdout",
          "text": [
            "Got 2 hits:\n\tID 1 : {\u0027first_name\u0027: \u0027Alperen\u0027, \u0027last_name\u0027: \u0027panwar\u0027, \u0027age\u0027: 27, \u0027about\u0027: \u0027Love to play cricket\u0027, \u0027interests\u0027: [\u0027sports\u0027, \u0027music\u0027]}\n\tID 2 : {\u0027first_name\u0027: \u0027Alper\u0027, \u0027last_name\u0027: \u0027Smith\u0027, \u0027age\u0027: 32, \u0027about\u0027: \u0027I like to collect rock albums\u0027, \u0027interests\u0027: [\u0027music\u0027]}\n"
          ],
          "output_type": "stream"
        }
      ],
      "source": "\nres \u003d es.search(index\u003d\u0027alperen-index\u0027, body\u003d{\n    \u0027query\u0027: {\n        \u0027match_phrase_prefix\u0027: {\n            \u0027first_name\u0027: {\n                \"query\": \"Alper\"\n            }\n        }\n    }\n})\n\nprint(\u0027Got %d hits:\u0027 % res[\u0027hits\u0027][\u0027total\u0027][\u0027value\u0027])\nfor hit in res[\u0027hits\u0027][\u0027hits\u0027]:\n    print(\"\\tID %(_id)s : %(_source)s\" % hit)\n    \n# This query uses prefix which GETs every data whose \u0027first_name\u0027 value starts with \u0027Alper\u0027 ",
      "metadata": {
        "pycharm": {
          "metadata": false,
          "name": "#%%\n",
          "is_executing": false
        }
      }
    },
    {
      "cell_type": "code",
      "execution_count": 16,
      "outputs": [
        {
          "name": "stdout",
          "text": [
            "Got 2 hits:\n\tID 1 : {\u0027first_name\u0027: \u0027Alperen\u0027, \u0027last_name\u0027: \u0027panwar\u0027, \u0027age\u0027: 27, \u0027about\u0027: \u0027Love to play cricket\u0027, \u0027interests\u0027: [\u0027sports\u0027, \u0027music\u0027]}\n\tID 2 : {\u0027first_name\u0027: \u0027Alper\u0027, \u0027last_name\u0027: \u0027Smith\u0027, \u0027age\u0027: 32, \u0027about\u0027: \u0027I like to collect rock albums\u0027, \u0027interests\u0027: [\u0027music\u0027]}\nGot 1 hits:\n\tID 1 : {\u0027first_name\u0027: \u0027Alperen\u0027, \u0027last_name\u0027: \u0027panwar\u0027, \u0027age\u0027: 27, \u0027about\u0027: \u0027Love to play cricket\u0027, \u0027interests\u0027: [\u0027sports\u0027, \u0027music\u0027]}\n"
          ],
          "output_type": "stream"
        }
      ],
      "source": "\nprint(\u0027Got %d hits:\u0027 % res[\u0027hits\u0027][\u0027total\u0027][\u0027value\u0027])\nfor hit in res[\u0027hits\u0027][\u0027hits\u0027]:\n    print(\"\\tID %(_id)s : %(_source)s\" % hit)\n\nres \u003d es.search(index\u003d\u0027alperen-index\u0027, doc_type\u003d\u0027employee\u0027, body\u003d{\n    \u0027query\u0027: {\n        \u0027match_phrase\u0027: {\n            \"about\": \"play cricket\"\n        }\n    }\n})\n\nprint(\u0027Got %d hits:\u0027 % res[\u0027hits\u0027][\u0027total\u0027][\u0027value\u0027])\nfor hit in res[\u0027hits\u0027][\u0027hits\u0027]:\n    print(\"\\tID %(_id)s : %(_source)s\" % hit)",
      "metadata": {
        "pycharm": {
          "metadata": false,
          "name": "#%%\n",
          "is_executing": false
        }
      }
    },
    {
      "cell_type": "markdown",
      "source": "Now partial update time.",
      "metadata": {
        "pycharm": {
          "metadata": false,
          "name": "#%% md\n"
        }
      }
    },
    {
      "cell_type": "code",
      "execution_count": 17,
      "outputs": [
        {
          "name": "stdout",
          "text": [
            "updated\n"
          ],
          "output_type": "stream"
        }
      ],
      "source": "res \u003d es.update(index\u003d\"alperen-index\", doc_type\u003d\"_doc\", id\u003d2, body\u003d{\n    \"doc\": {\n        \"age\" : 18\n    }\n})\nprint(res[\u0027result\u0027])\n",
      "metadata": {
        "pycharm": {
          "metadata": false,
          "name": "#%%\n",
          "is_executing": false
        }
      }
    }
  ],
  "metadata": {
    "language_info": {
      "codemirror_mode": {
        "name": "ipython",
        "version": 2
      },
      "file_extension": ".py",
      "mimetype": "text/x-python",
      "name": "python",
      "nbconvert_exporter": "python",
      "pygments_lexer": "ipython2",
      "version": "2.7.6"
    },
    "kernelspec": {
      "name": "python3",
      "language": "python",
      "display_name": "Python 3"
    }
  },
  "nbformat": 4,
  "nbformat_minor": 0
}