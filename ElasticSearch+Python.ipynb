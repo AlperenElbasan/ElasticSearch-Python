{
  "cells": [
    {
      "cell_type": "code",
      "execution_count": 1,
      "metadata": {
        "collapsed": true,
        "pycharm": {
          "name": "#%%\n",
          "is_executing": false
        }
      },
      "outputs": [],
      "source": "from datetime import datetime\nfrom elasticsearch import Elasticsearch  # this is elasticsearch-py low level library.\n# elasticsearch-dsl can be used for better and high level API usage against elasticsearch.\nfrom elasticsearch_dsl import Search"
    },
    {
      "cell_type": "code",
      "execution_count": 2,
      "outputs": [
        {
          "name": "stdout",
          "text": [
            "Cluster Name: {\u0027cluster_name\u0027: \u0027docker-cluster\u0027, \u0027cluster_uuid\u0027: \u0027hpUPNj8XRICaRhcu5wTXrg\u0027}\n"
          ],
          "output_type": "stream"
        }
      ],
      "source": "HOST_URLS \u003d [\"http://127.0.0.1:9200\"]\nes \u003d Elasticsearch(HOST_URLS)\nprint(\"Cluster Name:\", es.cluster.state(metric\u003d[\u0027cluster_name\u0027])) # Let\u0027s print Cluster name if ES server works.",
      "metadata": {
        "pycharm": {
          "metadata": false,
          "name": "#%%\n",
          "is_executing": false
        }
      }
    },
    {
      "cell_type": "markdown",
      "source": "Let\u0027s create some arbitrary employees who named as Alperen, because why not?!",
      "metadata": {
        "pycharm": {
          "metadata": false
        }
      }
    },
    {
      "cell_type": "code",
      "execution_count": 3,
      "outputs": [
        {
          "name": "stdout",
          "text": [
            "updated\nupdated\nupdated\n"
          ],
          "output_type": "stream"
        }
      ],
      "source": "e1 \u003d {\n    \"first_name\": \"Alperen\",\n    \"last_name\": \"panwar\",\n    \"age\": 27,\n    \"about\": \"Love to play cricket\",\n    \"interests\": [\u0027sports\u0027, \u0027music\u0027],\n}\ne2 \u003d {\n    \"first_name\": \"Alper\",\n    \"last_name\": \"Smith\",\n    \"age\": 32,\n    \"about\": \"I like to collect rock albums\",\n    \"interests\": [\"music\"]\n}\ne3 \u003d {\n    \"first_name\": \"Alp Eren\",\n    \"last_name\": \"Fir\",\n    \"age\": 35,\n    \"about\": \"I like to build cabinets\",\n    \"interests\": [\"forestry\"]\n}\n\nres \u003d es.index(index\u003d\u0027alperen-index\u0027, doc_type\u003d\u0027employee\u0027, id\u003d1, body\u003de1)\nprint(res[\u0027result\u0027])\nres \u003d es.index(index\u003d\u0027alperen-index\u0027, doc_type\u003d\u0027employee\u0027, id\u003d2, body\u003de2)\nprint(res[\u0027result\u0027])\nres \u003d es.index(index\u003d\u0027alperen-index\u0027, doc_type\u003d\u0027employee\u0027, id\u003d3, body\u003de3)\nprint(res[\u0027result\u0027])\n\n# Prints 3 result which are for logging purposes.\n# If results are \u0027updated\u0027 then some data existed with the same id and it is replaced with corresponding values,\n# If results are \u0027created\u0027 then these values are created newly with x values (id\u003dx).",
      "metadata": {
        "pycharm": {
          "metadata": false,
          "name": "#%%\n",
          "is_executing": false
        }
      }
    },
    {
      "cell_type": "code",
      "execution_count": 4,
      "outputs": [
        {
          "name": "stdout",
          "text": [
            "Got 3 hits:\n\tID 4 : {\u0027first_name\u0027: \u0027Alperen\u0027, \u0027last_name\u0027: \u0027panwar\u0027, \u0027age\u0027: 27, \u0027about\u0027: \u0027Love to play cricket\u0027, \u0027interests\u0027: [\u0027sports\u0027, \u0027music\u0027]}\n\tID 5 : {\u0027first_name\u0027: \u0027Alper\u0027, \u0027last_name\u0027: \u0027Smith\u0027, \u0027age\u0027: 32, \u0027about\u0027: \u0027I like to collect rock albums\u0027, \u0027interests\u0027: [\u0027music\u0027]}\n\tID 6 : {\u0027first_name\u0027: \u0027Alp Eren\u0027, \u0027last_name\u0027: \u0027Fir\u0027, \u0027age\u0027: 35, \u0027about\u0027: \u0027I like to build cabinets\u0027, \u0027interests\u0027: [\u0027forestry\u0027]}\n"
          ],
          "output_type": "stream"
        }
      ],
      "source": "res \u003d es.search(index\u003d\u0027alperen-index\u0027, body\u003d{\u0027query\u0027: {\u0027match_all\u0027: {}}})\nprint(\u0027Got %d hits:\u0027 % res[\u0027hits\u0027][\u0027total\u0027][\u0027value\u0027])\nfor hit in res[\u0027hits\u0027][\u0027hits\u0027]:\n    print(\"\\tID %(_id)s : %(_source)s\" % hit)\n    \n# Gets all data",
      "metadata": {
        "pycharm": {
          "metadata": false,
          "name": "#%%\n",
          "is_executing": false
        }
      }
    },
    {
      "cell_type": "code",
      "execution_count": 6,
      "outputs": [
        {
          "name": "stdout",
          "text": [
            "Got 1 hits:\n\tID 5 : {\u0027first_name\u0027: \u0027Alper\u0027, \u0027last_name\u0027: \u0027Smith\u0027, \u0027age\u0027: 32, \u0027about\u0027: \u0027I like to collect rock albums\u0027, \u0027interests\u0027: [\u0027music\u0027]}\n"
          ],
          "output_type": "stream"
        }
      ],
      "source": "res \u003d es.search(index\u003d\u0027alperen-index\u0027, body\u003d{\n    \u0027query\u0027: {\n        \u0027match\u0027: {\n            \u0027age\u0027:\n                32\n        }\n    }\n})\n\nprint(\u0027Got %d hits:\u0027 % res[\u0027hits\u0027][\u0027total\u0027][\u0027value\u0027])\nfor hit in res[\u0027hits\u0027][\u0027hits\u0027]:\n    print(\"\\tID %(_id)s : %(_source)s\" % hit)\n    \n# Gets all data with age value equals to 32.",
      "metadata": {
        "pycharm": {
          "metadata": false,
          "name": "#%%\n",
          "is_executing": false
        }
      }
    },
    {
      "cell_type": "code",
      "execution_count": 7,
      "outputs": [
        {
          "name": "stdout",
          "text": [
            "Got 2 hits:\n\tID 4 : {\u0027first_name\u0027: \u0027Alperen\u0027, \u0027last_name\u0027: \u0027panwar\u0027, \u0027age\u0027: 27, \u0027about\u0027: \u0027Love to play cricket\u0027, \u0027interests\u0027: [\u0027sports\u0027, \u0027music\u0027]}\n\tID 5 : {\u0027first_name\u0027: \u0027Alper\u0027, \u0027last_name\u0027: \u0027Smith\u0027, \u0027age\u0027: 32, \u0027about\u0027: \u0027I like to collect rock albums\u0027, \u0027interests\u0027: [\u0027music\u0027]}\n"
          ],
          "output_type": "stream"
        }
      ],
      "source": "\nres \u003d es.search(index\u003d\u0027alperen-index\u0027, body\u003d{\n    \u0027query\u0027: {\n        \u0027match_phrase_prefix\u0027: {\n            \u0027first_name\u0027: {\n                \"query\": \"Alper\"\n            }\n        }\n    }\n})\n\nprint(\u0027Got %d hits:\u0027 % res[\u0027hits\u0027][\u0027total\u0027][\u0027value\u0027])\nfor hit in res[\u0027hits\u0027][\u0027hits\u0027]:\n    print(\"\\tID %(_id)s : %(_source)s\" % hit)\n    \n# This query uses prefix which GETs every data whose \u0027first_name\u0027 value starts with \u0027Alper\u0027 ",
      "metadata": {
        "pycharm": {
          "metadata": false,
          "name": "#%%\n",
          "is_executing": false
        }
      }
    },
    {
      "cell_type": "code",
      "execution_count": 8,
      "outputs": [
        {
          "name": "stderr",
          "text": [
            "GET http://127.0.0.1:9200/alperen-index/employee/_search [status:404 request:0.001s]\n"
          ],
          "output_type": "stream"
        },
        {
          "name": "stdout",
          "text": [
            "Got 2 hits:\n\tID 4 : {\u0027first_name\u0027: \u0027Alperen\u0027, \u0027last_name\u0027: \u0027panwar\u0027, \u0027age\u0027: 27, \u0027about\u0027: \u0027Love to play cricket\u0027, \u0027interests\u0027: [\u0027sports\u0027, \u0027music\u0027]}\n\tID 5 : {\u0027first_name\u0027: \u0027Alper\u0027, \u0027last_name\u0027: \u0027Smith\u0027, \u0027age\u0027: 32, \u0027about\u0027: \u0027I like to collect rock albums\u0027, \u0027interests\u0027: [\u0027music\u0027]}\n"
          ],
          "output_type": "stream"
        },
        {
          "traceback": [
            "\u001b[0;31m---------------------------------------------------------------------------\u001b[0m",
            "\u001b[0;31mNotFoundError\u001b[0m                             Traceback (most recent call last)",
            "\u001b[0;32m\u003cipython-input-8-a38a29481bd1\u003e\u001b[0m in \u001b[0;36m\u003cmodule\u003e\u001b[0;34m\u001b[0m\n\u001b[1;32m      7\u001b[0m     \u0027query\u0027: {\n\u001b[1;32m      8\u001b[0m         \u0027match_phrase\u0027: {\n\u001b[0;32m----\u003e 9\u001b[0;31m             \u001b[0;34m\"about\"\u001b[0m\u001b[0;34m:\u001b[0m \u001b[0;34m\"play cricket\"\u001b[0m\u001b[0;34m\u001b[0m\u001b[0;34m\u001b[0m\u001b[0m\n\u001b[0m\u001b[1;32m     10\u001b[0m         }\n\u001b[1;32m     11\u001b[0m     }\n",
            "\u001b[0;32m~/PycharmProjects/Neo4j Tutorial/venv/lib/python3.6/site-packages/elasticsearch/client/utils.py\u001b[0m in \u001b[0;36m_wrapped\u001b[0;34m(*args, **kwargs)\u001b[0m\n\u001b[1;32m     74\u001b[0m                 \u001b[0;32mif\u001b[0m \u001b[0mp\u001b[0m \u001b[0;32min\u001b[0m \u001b[0mkwargs\u001b[0m\u001b[0;34m:\u001b[0m\u001b[0;34m\u001b[0m\u001b[0;34m\u001b[0m\u001b[0m\n\u001b[1;32m     75\u001b[0m                     \u001b[0mparams\u001b[0m\u001b[0;34m[\u001b[0m\u001b[0mp\u001b[0m\u001b[0;34m]\u001b[0m \u001b[0;34m\u003d\u001b[0m \u001b[0mkwargs\u001b[0m\u001b[0;34m.\u001b[0m\u001b[0mpop\u001b[0m\u001b[0;34m(\u001b[0m\u001b[0mp\u001b[0m\u001b[0;34m)\u001b[0m\u001b[0;34m\u001b[0m\u001b[0;34m\u001b[0m\u001b[0m\n\u001b[0;32m---\u003e 76\u001b[0;31m             \u001b[0;32mreturn\u001b[0m \u001b[0mfunc\u001b[0m\u001b[0;34m(\u001b[0m\u001b[0;34m*\u001b[0m\u001b[0margs\u001b[0m\u001b[0;34m,\u001b[0m \u001b[0mparams\u001b[0m\u001b[0;34m\u003d\u001b[0m\u001b[0mparams\u001b[0m\u001b[0;34m,\u001b[0m \u001b[0;34m**\u001b[0m\u001b[0mkwargs\u001b[0m\u001b[0;34m)\u001b[0m\u001b[0;34m\u001b[0m\u001b[0;34m\u001b[0m\u001b[0m\n\u001b[0m\u001b[1;32m     77\u001b[0m         \u001b[0;32mreturn\u001b[0m \u001b[0m_wrapped\u001b[0m\u001b[0;34m\u001b[0m\u001b[0;34m\u001b[0m\u001b[0m\n\u001b[1;32m     78\u001b[0m     \u001b[0;32mreturn\u001b[0m \u001b[0m_wrapper\u001b[0m\u001b[0;34m\u001b[0m\u001b[0;34m\u001b[0m\u001b[0m\n",
            "\u001b[0;32m~/PycharmProjects/Neo4j Tutorial/venv/lib/python3.6/site-packages/elasticsearch/client/__init__.py\u001b[0m in \u001b[0;36msearch\u001b[0;34m(self, index, doc_type, body, params)\u001b[0m\n\u001b[1;32m    658\u001b[0m             \u001b[0mindex\u001b[0m \u001b[0;34m\u003d\u001b[0m \u001b[0;34m\u0027_all\u0027\u001b[0m\u001b[0;34m\u001b[0m\u001b[0;34m\u001b[0m\u001b[0m\n\u001b[1;32m    659\u001b[0m         return self.transport.perform_request(\u0027GET\u0027, _make_path(index,\n\u001b[0;32m--\u003e 660\u001b[0;31m             doc_type, \u0027_search\u0027), params\u003dparams, body\u003dbody)\n\u001b[0m\u001b[1;32m    661\u001b[0m \u001b[0;34m\u001b[0m\u001b[0m\n\u001b[1;32m    662\u001b[0m     @query_params(\u0027_source\u0027, \u0027_source_exclude\u0027, \u0027_source_include\u0027,\n",
            "\u001b[0;32m~/PycharmProjects/Neo4j Tutorial/venv/lib/python3.6/site-packages/elasticsearch/transport.py\u001b[0m in \u001b[0;36mperform_request\u001b[0;34m(self, method, url, headers, params, body)\u001b[0m\n\u001b[1;32m    316\u001b[0m                 \u001b[0mdelay\u001b[0m \u001b[0;34m\u003d\u001b[0m \u001b[0;36m2\u001b[0m\u001b[0;34m**\u001b[0m\u001b[0mattempt\u001b[0m \u001b[0;34m-\u001b[0m \u001b[0;36m1\u001b[0m\u001b[0;34m\u001b[0m\u001b[0;34m\u001b[0m\u001b[0m\n\u001b[1;32m    317\u001b[0m                 \u001b[0mtime\u001b[0m\u001b[0;34m.\u001b[0m\u001b[0msleep\u001b[0m\u001b[0;34m(\u001b[0m\u001b[0mdelay\u001b[0m\u001b[0;34m)\u001b[0m\u001b[0;34m\u001b[0m\u001b[0;34m\u001b[0m\u001b[0m\n\u001b[0;32m--\u003e 318\u001b[0;31m                 \u001b[0mstatus\u001b[0m\u001b[0;34m,\u001b[0m \u001b[0mheaders_response\u001b[0m\u001b[0;34m,\u001b[0m \u001b[0mdata\u001b[0m \u001b[0;34m\u003d\u001b[0m \u001b[0mconnection\u001b[0m\u001b[0;34m.\u001b[0m\u001b[0mperform_request\u001b[0m\u001b[0;34m(\u001b[0m\u001b[0mmethod\u001b[0m\u001b[0;34m,\u001b[0m \u001b[0murl\u001b[0m\u001b[0;34m,\u001b[0m \u001b[0mparams\u001b[0m\u001b[0;34m,\u001b[0m \u001b[0mbody\u001b[0m\u001b[0;34m,\u001b[0m \u001b[0mheaders\u001b[0m\u001b[0;34m\u003d\u001b[0m\u001b[0mheaders\u001b[0m\u001b[0;34m,\u001b[0m \u001b[0mignore\u001b[0m\u001b[0;34m\u003d\u001b[0m\u001b[0mignore\u001b[0m\u001b[0;34m,\u001b[0m \u001b[0mtimeout\u001b[0m\u001b[0;34m\u003d\u001b[0m\u001b[0mtimeout\u001b[0m\u001b[0;34m)\u001b[0m\u001b[0;34m\u001b[0m\u001b[0;34m\u001b[0m\u001b[0m\n\u001b[0m\u001b[1;32m    319\u001b[0m \u001b[0;34m\u001b[0m\u001b[0m\n\u001b[1;32m    320\u001b[0m             \u001b[0;32mexcept\u001b[0m \u001b[0mTransportError\u001b[0m \u001b[0;32mas\u001b[0m \u001b[0me\u001b[0m\u001b[0;34m:\u001b[0m\u001b[0;34m\u001b[0m\u001b[0;34m\u001b[0m\u001b[0m\n",
            "\u001b[0;32m~/PycharmProjects/Neo4j Tutorial/venv/lib/python3.6/site-packages/elasticsearch/connection/http_urllib3.py\u001b[0m in \u001b[0;36mperform_request\u001b[0;34m(self, method, url, params, body, timeout, ignore, headers)\u001b[0m\n\u001b[1;32m    184\u001b[0m         \u001b[0;32mif\u001b[0m \u001b[0;32mnot\u001b[0m \u001b[0;34m(\u001b[0m\u001b[0;36m200\u001b[0m \u001b[0;34m\u003c\u003d\u001b[0m \u001b[0mresponse\u001b[0m\u001b[0;34m.\u001b[0m\u001b[0mstatus\u001b[0m \u001b[0;34m\u003c\u001b[0m \u001b[0;36m300\u001b[0m\u001b[0;34m)\u001b[0m \u001b[0;32mand\u001b[0m \u001b[0mresponse\u001b[0m\u001b[0;34m.\u001b[0m\u001b[0mstatus\u001b[0m \u001b[0;32mnot\u001b[0m \u001b[0;32min\u001b[0m \u001b[0mignore\u001b[0m\u001b[0;34m:\u001b[0m\u001b[0;34m\u001b[0m\u001b[0;34m\u001b[0m\u001b[0m\n\u001b[1;32m    185\u001b[0m             \u001b[0mself\u001b[0m\u001b[0;34m.\u001b[0m\u001b[0mlog_request_fail\u001b[0m\u001b[0;34m(\u001b[0m\u001b[0mmethod\u001b[0m\u001b[0;34m,\u001b[0m \u001b[0mfull_url\u001b[0m\u001b[0;34m,\u001b[0m \u001b[0murl\u001b[0m\u001b[0;34m,\u001b[0m \u001b[0mbody\u001b[0m\u001b[0;34m,\u001b[0m \u001b[0mduration\u001b[0m\u001b[0;34m,\u001b[0m \u001b[0mresponse\u001b[0m\u001b[0;34m.\u001b[0m\u001b[0mstatus\u001b[0m\u001b[0;34m,\u001b[0m \u001b[0mraw_data\u001b[0m\u001b[0;34m)\u001b[0m\u001b[0;34m\u001b[0m\u001b[0;34m\u001b[0m\u001b[0m\n\u001b[0;32m--\u003e 186\u001b[0;31m             \u001b[0mself\u001b[0m\u001b[0;34m.\u001b[0m\u001b[0m_raise_error\u001b[0m\u001b[0;34m(\u001b[0m\u001b[0mresponse\u001b[0m\u001b[0;34m.\u001b[0m\u001b[0mstatus\u001b[0m\u001b[0;34m,\u001b[0m \u001b[0mraw_data\u001b[0m\u001b[0;34m)\u001b[0m\u001b[0;34m\u001b[0m\u001b[0;34m\u001b[0m\u001b[0m\n\u001b[0m\u001b[1;32m    187\u001b[0m \u001b[0;34m\u001b[0m\u001b[0m\n\u001b[1;32m    188\u001b[0m         self.log_request_success(method, full_url, url, body, response.status,\n",
            "\u001b[0;32m~/PycharmProjects/Neo4j Tutorial/venv/lib/python3.6/site-packages/elasticsearch/connection/base.py\u001b[0m in \u001b[0;36m_raise_error\u001b[0;34m(self, status_code, raw_data)\u001b[0m\n\u001b[1;32m    123\u001b[0m             \u001b[0mlogger\u001b[0m\u001b[0;34m.\u001b[0m\u001b[0mwarning\u001b[0m\u001b[0;34m(\u001b[0m\u001b[0;34m\u0027Undecodable raw error response from server: %s\u0027\u001b[0m\u001b[0;34m,\u001b[0m \u001b[0merr\u001b[0m\u001b[0;34m)\u001b[0m\u001b[0;34m\u001b[0m\u001b[0;34m\u001b[0m\u001b[0m\n\u001b[1;32m    124\u001b[0m \u001b[0;34m\u001b[0m\u001b[0m\n\u001b[0;32m--\u003e 125\u001b[0;31m         \u001b[0;32mraise\u001b[0m \u001b[0mHTTP_EXCEPTIONS\u001b[0m\u001b[0;34m.\u001b[0m\u001b[0mget\u001b[0m\u001b[0;34m(\u001b[0m\u001b[0mstatus_code\u001b[0m\u001b[0;34m,\u001b[0m \u001b[0mTransportError\u001b[0m\u001b[0;34m)\u001b[0m\u001b[0;34m(\u001b[0m\u001b[0mstatus_code\u001b[0m\u001b[0;34m,\u001b[0m \u001b[0merror_message\u001b[0m\u001b[0;34m,\u001b[0m \u001b[0madditional_info\u001b[0m\u001b[0;34m)\u001b[0m\u001b[0;34m\u001b[0m\u001b[0;34m\u001b[0m\u001b[0m\n\u001b[0m\u001b[1;32m    126\u001b[0m \u001b[0;34m\u001b[0m\u001b[0m\n\u001b[1;32m    127\u001b[0m \u001b[0;34m\u001b[0m\u001b[0m\n",
            "\u001b[0;31mNotFoundError\u001b[0m: NotFoundError(404, \u0027index_not_found_exception\u0027, \u0027no such index [alperen-index]\u0027)"
          ],
          "ename": "NotFoundError",
          "evalue": "NotFoundError(404, \u0027index_not_found_exception\u0027, \u0027no such index [alperen-index]\u0027)",
          "output_type": "error"
        }
      ],
      "source": "\nprint(\u0027Got %d hits:\u0027 % res[\u0027hits\u0027][\u0027total\u0027][\u0027value\u0027])\nfor hit in res[\u0027hits\u0027][\u0027hits\u0027]:\n    print(\"\\tID %(_id)s : %(_source)s\" % hit)\n\nres \u003d es.search(index\u003d\u0027alperen-index\u0027, doc_type\u003d\u0027employee\u0027, body\u003d{\n    \u0027query\u0027: {\n        \u0027match_phrase\u0027: {\n            \"about\": \"play cricket\"\n        }\n    }\n})\n\nprint(\u0027Got %d hits:\u0027 % res[\u0027hits\u0027][\u0027total\u0027][\u0027value\u0027])\nfor hit in res[\u0027hits\u0027][\u0027hits\u0027]:\n    print(\"\\tID %(_id)s : %(_source)s\" % hit)",
      "metadata": {
        "pycharm": {
          "metadata": false,
          "name": "#%%\n",
          "is_executing": false
        }
      }
    },
    {
      "cell_type": "markdown",
      "source": "Now partial update time.",
      "metadata": {
        "pycharm": {
          "metadata": false,
          "name": "#%% md\n"
        }
      }
    },
    {
      "cell_type": "code",
      "execution_count": 9,
      "outputs": [
        {
          "name": "stdout",
          "text": [
            "noop\n"
          ],
          "output_type": "stream"
        }
      ],
      "source": "res \u003d es.update(index\u003d\"alperen-index\", doc_type\u003d\"_doc\", id\u003d2, body\u003d{\n    \"doc\": {\n        \"age\" : 18\n    }\n})\nprint(res[\u0027result\u0027])\n",
      "metadata": {
        "pycharm": {
          "metadata": false,
          "name": "#%%\n",
          "is_executing": false
        }
      }
    }
  ],
  "metadata": {
    "language_info": {
      "codemirror_mode": {
        "name": "ipython",
        "version": 2
      },
      "file_extension": ".py",
      "mimetype": "text/x-python",
      "name": "python",
      "nbconvert_exporter": "python",
      "pygments_lexer": "ipython2",
      "version": "2.7.6"
    },
    "kernelspec": {
      "name": "python3",
      "language": "python",
      "display_name": "Python 3"
    }
  },
  "nbformat": 4,
  "nbformat_minor": 0
}